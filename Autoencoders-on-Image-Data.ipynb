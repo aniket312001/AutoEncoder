{
 "cells": [
  {
   "cell_type": "markdown",
   "metadata": {},
   "source": [
    "# AutoEncoders on Image Data"
   ]
  },
  {
   "cell_type": "markdown",
   "metadata": {},
   "source": [
    "### The Data"
   ]
  },
  {
   "cell_type": "code",
   "execution_count": 1,
   "metadata": {
    "id": "15Wy9RxEiluf"
   },
   "outputs": [],
   "source": [
    "import pandas as pd\n",
    "import numpy as np\n",
    "import seaborn as sns\n",
    "import matplotlib.pyplot as plt"
   ]
  },
  {
   "cell_type": "code",
   "execution_count": 2,
   "metadata": {
    "id": "3BH7PY8YiwYA"
   },
   "outputs": [],
   "source": [
    "from tensorflow.keras.datasets import mnist"
   ]
  },
  {
   "cell_type": "code",
   "execution_count": 3,
   "metadata": {
    "colab": {
     "base_uri": "https://localhost:8080/"
    },
    "id": "WSfw6iYvi-s9",
    "outputId": "c2ab5616-1552-4ceb-f619-ce9af4a226a4"
   },
   "outputs": [
    {
     "name": "stdout",
     "output_type": "stream",
     "text": [
      "Downloading data from https://storage.googleapis.com/tensorflow/tf-keras-datasets/mnist.npz\n",
      "11493376/11490434 [==============================] - 0s 0us/step\n"
     ]
    }
   ],
   "source": [
    "(X_train,y_train),(X_test,y_test) = mnist.load_data()"
   ]
  },
  {
   "cell_type": "code",
   "execution_count": 4,
   "metadata": {
    "colab": {
     "base_uri": "https://localhost:8080/",
     "height": 282
    },
    "id": "XRfxcrtHjKf8",
    "outputId": "791e1a72-6b96-4611-ab02-747ff0b87b9c"
   },
   "outputs": [
    {
     "data": {
      "text/plain": [
       "<matplotlib.image.AxesImage at 0x7f31e7412dd8>"
      ]
     },
     "execution_count": 4,
     "metadata": {
      "tags": []
     },
     "output_type": "execute_result"
    },
    {
     "data": {
      "image/png": "[encoded data removed]",
      "text/plain": [
       "<Figure size 432x288 with 1 Axes>"
      ]
     },
     "metadata": {
      "needs_background": "light",
      "tags": []
     },
     "output_type": "display_data"
    }
   ],
   "source": [
    "plt.imshow(X_train[0])"
   ]
  },
  {
   "cell_type": "code",
   "execution_count": 5,
   "metadata": {
    "id": "kUs4-rxzjVAU"
   },
   "outputs": [],
   "source": [
    "X_train = X_train/255\n",
    "X_test = X_test/255"
   ]
  },
  {
   "cell_type": "markdown",
   "metadata": {},
   "source": [
    "## Basic AutoEncoder"
   ]
  },
  {
   "cell_type": "code",
   "execution_count": 6,
   "metadata": {
    "id": "u2_yofwojqPM"
   },
   "outputs": [],
   "source": [
    "from tensorflow.keras.models import Sequential\n",
    "from tensorflow.keras.layers import Dense,Flatten,Reshape\n",
    "from tensorflow.keras.optimizers import SGD"
   ]
  },
  {
   "cell_type": "code",
   "execution_count": 7,
   "metadata": {
    "colab": {
     "base_uri": "https://localhost:8080/"
    },
    "id": "Txb22rckk1nd",
    "outputId": "5cc415d4-fc3f-46f7-c80a-b98786d56ad9"
   },
   "outputs": [
    {
     "data": {
      "text/plain": [
       "(60000, 28, 28)"
      ]
     },
     "execution_count": 7,
     "metadata": {
      "tags": []
     },
     "output_type": "execute_result"
    }
   ],
   "source": [
    "X_train.shape"
   ]
  },
  {
   "cell_type": "code",
   "execution_count": 8,
   "metadata": {
    "colab": {
     "base_uri": "https://localhost:8080/"
    },
    "id": "sCVlizyylgLl",
    "outputId": "a0eae50c-25f0-4465-bdfc-47925404e20c"
   },
   "outputs": [
    {
     "data": {
      "text/plain": [
       "784"
      ]
     },
     "execution_count": 8,
     "metadata": {
      "tags": []
     },
     "output_type": "execute_result"
    }
   ],
   "source": [
    "28*28"
   ]
  },
  {
   "cell_type": "code",
   "execution_count": 9,
   "metadata": {
    "colab": {
     "base_uri": "https://localhost:8080/"
    },
    "id": "HAoVRJuQliM1",
    "outputId": "033af3fe-3bd4-46c7-c3ad-4f28d40d1280"
   },
   "outputs": [
    {
     "data": {
      "text/plain": [
       "392.0"
      ]
     },
     "execution_count": 9,
     "metadata": {
      "tags": []
     },
     "output_type": "execute_result"
    }
   ],
   "source": [
    "784/2"
   ]
  },
  {
   "cell_type": "code",
   "execution_count": 10,
   "metadata": {
    "id": "e-T0YakblltM"
   },
   "outputs": [],
   "source": [
    "encoder = Sequential()\n",
    "\n",
    "encoder.add(Flatten(input_shape=[28,28]))\n",
    "encoder.add(Dense(units=400,activation='relu'))\n",
    "encoder.add(Dense(units=200,activation='relu'))\n",
    "encoder.add(Dense(units=100,activation='relu'))\n",
    "encoder.add(Dense(units=50,activation='relu'))\n",
    "encoder.add(Dense(units=25,activation='relu'))\n"
   ]
  },
  {
   "cell_type": "code",
   "execution_count": 11,
   "metadata": {
    "id": "L6Wdakf2mXHm"
   },
   "outputs": [],
   "source": [
    "decoder = Sequential()\n",
    "\n",
    "decoder.add(Dense(units=50,activation='relu',input_shape=[25]))\n",
    "decoder.add(Dense(units=100,activation='relu'))\n",
    "decoder.add(Dense(units=200,activation='relu'))\n",
    "decoder.add(Dense(units=400,activation='relu'))\n",
    "decoder.add(Dense(units=784,activation='sigmoid'))\n",
    "decoder.add(Reshape([28,28]))"
   ]
  },
  {
   "cell_type": "code",
   "execution_count": 12,
   "metadata": {
    "id": "p_XVOMI5nrD_"
   },
   "outputs": [],
   "source": [
    "autoencoder = Sequential([encoder,decoder])"
   ]
  },
  {
   "cell_type": "code",
   "execution_count": 13,
   "metadata": {
    "id": "9uw-I1mBoFUk"
   },
   "outputs": [],
   "source": [
    "autoencoder.compile(loss='binary_crossentropy',\n",
    "                    optimizer=SGD(lr=1.5),metrics=['accuracy'])"
   ]
  },
  {
   "cell_type": "code",
   "execution_count": 14,
   "metadata": {
    "colab": {
     "base_uri": "https://localhost:8080/"
    },
    "id": "U9WZWS4voiRM",
    "outputId": "997f1a57-c1a6-4c36-e839-65395c300565"
   },
   "outputs": [
    {
     "name": "stdout",
     "output_type": "stream",
     "text": [
      "Epoch 1/5\n",
      "1875/1875 [==============================] - 18s 10ms/step - loss: 0.2470 - accuracy: 0.0961 - val_loss: 0.2123 - val_accuracy: 0.1271\n",
      "Epoch 2/5\n",
      "1875/1875 [==============================] - 19s 10ms/step - loss: 0.1880 - accuracy: 0.1586 - val_loss: 0.1696 - val_accuracy: 0.1791\n",
      "Epoch 3/5\n",
      "1875/1875 [==============================] - 18s 10ms/step - loss: 0.1618 - accuracy: 0.1934 - val_loss: 0.1562 - val_accuracy: 0.1944\n",
      "Epoch 4/5\n",
      "1875/1875 [==============================] - 18s 10ms/step - loss: 0.1495 - accuracy: 0.2093 - val_loss: 0.1444 - val_accuracy: 0.2097\n",
      "Epoch 5/5\n",
      "1875/1875 [==============================] - 18s 10ms/step - loss: 0.1424 - accuracy: 0.2189 - val_loss: 0.1401 - val_accuracy: 0.2114\n"
     ]
    },
    {
     "data": {
      "text/plain": [
       "<tensorflow.python.keras.callbacks.History at 0x7f31e05a37f0>"
      ]
     },
     "execution_count": 14,
     "metadata": {
      "tags": []
     },
     "output_type": "execute_result"
    }
   ],
   "source": [
    "autoencoder.fit(X_train,X_train,epochs=5,validation_data=(X_test,X_test))"
   ]
  },
  {
   "cell_type": "code",
   "execution_count": 15,
   "metadata": {
    "id": "cVobwJaBo07r"
   },
   "outputs": [],
   "source": [
    " passed_image = autoencoder.predict(X_test[:10])"
   ]
  },
  {
   "cell_type": "code",
   "execution_count": 17,
   "metadata": {
    "colab": {
     "base_uri": "https://localhost:8080/",
     "height": 565
    },
    "id": "LQsZgB0ip0eQ",
    "outputId": "d88656d8-6f5d-448c-b2c5-139b5608f40a"
   },
   "outputs": [
    {
     "name": "stdout",
     "output_type": "stream",
     "text": [
      "Orignal Image\n"
     ]
    },
    {
     "data": {
      "image/png": "[encoded data removed]",
      "text/plain": [
       "<Figure size 432x288 with 1 Axes>"
      ]
     },
     "metadata": {
      "needs_background": "light",
      "tags": []
     },
     "output_type": "display_data"
    },
    {
     "name": "stdout",
     "output_type": "stream",
     "text": [
      "\n",
      "After AutoEncoder \n"
     ]
    },
    {
     "data": {
      "image/png": "[encoded data removed]",
      "text/plain": [
       "<Figure size 432x288 with 1 Axes>"
      ]
     },
     "metadata": {
      "needs_background": "light",
      "tags": []
     },
     "output_type": "display_data"
    }
   ],
   "source": [
    "n = 0\n",
    "print('Orignal Image')\n",
    "plt.imshow(X_test[n])\n",
    "plt.show()\n",
    "print('\\nAfter AutoEncoder ')\n",
    "plt.imshow(passed_image[n])\n",
    "plt.show()"
   ]
  },
  {
   "cell_type": "markdown",
   "metadata": {},
   "source": [
    "# AutoEncoders for Denoising Images"
   ]
  },
  {
   "cell_type": "code",
   "execution_count": 18,
   "metadata": {
    "id": "ECztUiIPqdqU"
   },
   "outputs": [],
   "source": [
    "from tensorflow.keras.layers import GaussianNoise\n",
    "\n",
    "sample = GaussianNoise(0.2)\n"
   ]
  },
  {
   "cell_type": "code",
   "execution_count": 22,
   "metadata": {
    "id": "xQDSgOlIr__e"
   },
   "outputs": [],
   "source": [
    "noisy = sample(X_test[:10],training=True)"
   ]
  },
  {
   "cell_type": "code",
   "execution_count": 23,
   "metadata": {
    "colab": {
     "base_uri": "https://localhost:8080/",
     "height": 565
    },
    "id": "G3A4tMT-sLij",
    "outputId": "929e7548-a904-4569-d806-a992ae97c992"
   },
   "outputs": [
    {
     "name": "stdout",
     "output_type": "stream",
     "text": [
      "Orignal Image\n"
     ]
    },
    {
     "data": {
      "image/png": "[encoded data removed]",
      "text/plain": [
       "<Figure size 432x288 with 1 Axes>"
      ]
     },
     "metadata": {
      "needs_background": "light",
      "tags": []
     },
     "output_type": "display_data"
    },
    {
     "name": "stdout",
     "output_type": "stream",
     "text": [
      "\n",
      " Noise Version\n"
     ]
    },
    {
     "data": {
      "image/png": "[encoded data removed]",
      "text/plain": [
       "<Figure size 432x288 with 1 Axes>"
      ]
     },
     "metadata": {
      "needs_background": "light",
      "tags": []
     },
     "output_type": "display_data"
    }
   ],
   "source": [
    "n = 0\n",
    "print('Orignal Image')\n",
    "plt.imshow(X_test[n])\n",
    "plt.show()\n",
    "print('\\n Noise Version')\n",
    "plt.imshow(noisy[n])\n",
    "plt.show()"
   ]
  },
  {
   "cell_type": "markdown",
   "metadata": {},
   "source": [
    "# Create noise removal autoencoder and train it."
   ]
  },
  {
   "cell_type": "code",
   "execution_count": 24,
   "metadata": {
    "id": "ekM1O9PFsflD"
   },
   "outputs": [],
   "source": [
    "import tensorflow as tf"
   ]
  },
  {
   "cell_type": "code",
   "execution_count": 26,
   "metadata": {
    "id": "v6_Ez2WPtLfx"
   },
   "outputs": [],
   "source": [
    "tf.random.set_seed(101)\n",
    "\n",
    "encoder = Sequential()\n",
    "encoder.add(Flatten(input_shape=[28,28]))\n",
    "\n",
    "encoder.add(GaussianNoise(0.2))\n",
    "\n",
    "encoder.add(Dense(units=400,activation='relu'))\n",
    "encoder.add(Dense(units=200,activation='relu'))\n",
    "encoder.add(Dense(units=100,activation='relu'))\n",
    "encoder.add(Dense(units=50,activation='relu'))\n",
    "encoder.add(Dense(units=25,activation='relu'))\n"
   ]
  },
  {
   "cell_type": "code",
   "execution_count": 27,
   "metadata": {
    "id": "E3DZXYCGtl18"
   },
   "outputs": [],
   "source": [
    "decoder = Sequential()\n",
    "\n",
    "decoder.add(Dense(units=50,activation='relu',input_shape=[25]))\n",
    "decoder.add(Dense(units=100,activation='relu'))\n",
    "decoder.add(Dense(units=200,activation='relu'))\n",
    "decoder.add(Dense(units=400,activation='relu'))\n",
    "decoder.add(Dense(units=784,activation='sigmoid'))\n",
    "decoder.add(Reshape([28,28]))"
   ]
  },
  {
   "cell_type": "code",
   "execution_count": 30,
   "metadata": {
    "id": "e3Dsu7gEtyx7"
   },
   "outputs": [],
   "source": [
    "noise_remover = Sequential([encoder,decoder])"
   ]
  },
  {
   "cell_type": "code",
   "execution_count": 32,
   "metadata": {
    "id": "CtPrgleIuI8A"
   },
   "outputs": [],
   "source": [
    "noise_remover.compile(loss='binary_crossentropy',\n",
    "                    optimizer='adam',metrics=['accuracy'])"
   ]
  },
  {
   "cell_type": "code",
   "execution_count": 33,
   "metadata": {
    "colab": {
     "base_uri": "https://localhost:8080/"
    },
    "id": "INhrRxIAueCj",
    "outputId": "ec1fcfe7-b002-4377-eb7d-858ae3e5ddc9"
   },
   "outputs": [
    {
     "name": "stdout",
     "output_type": "stream",
     "text": [
      "Epoch 1/8\n",
      "1875/1875 [==============================] - 21s 11ms/step - loss: 0.1702 - accuracy: 0.1812 - val_loss: 0.1350 - val_accuracy: 0.2261\n",
      "Epoch 2/8\n",
      "1875/1875 [==============================] - 21s 11ms/step - loss: 0.1322 - accuracy: 0.2300 - val_loss: 0.1231 - val_accuracy: 0.2434\n",
      "Epoch 3/8\n",
      "1875/1875 [==============================] - 20s 11ms/step - loss: 0.1234 - accuracy: 0.2427 - val_loss: 0.1171 - val_accuracy: 0.2550\n",
      "Epoch 4/8\n",
      "1875/1875 [==============================] - 21s 11ms/step - loss: 0.1176 - accuracy: 0.2523 - val_loss: 0.1115 - val_accuracy: 0.2573\n",
      "Epoch 5/8\n",
      "1875/1875 [==============================] - 21s 11ms/step - loss: 0.1140 - accuracy: 0.2590 - val_loss: 0.1098 - val_accuracy: 0.2563\n",
      "Epoch 6/8\n",
      "1875/1875 [==============================] - 21s 11ms/step - loss: 0.1109 - accuracy: 0.2637 - val_loss: 0.1061 - val_accuracy: 0.2594\n",
      "Epoch 7/8\n",
      "1875/1875 [==============================] - 21s 11ms/step - loss: 0.1086 - accuracy: 0.2676 - val_loss: 0.1044 - val_accuracy: 0.2773\n",
      "Epoch 8/8\n",
      "1875/1875 [==============================] - 21s 11ms/step - loss: 0.1069 - accuracy: 0.2724 - val_loss: 0.1034 - val_accuracy: 0.2783\n"
     ]
    },
    {
     "data": {
      "text/plain": [
       "<tensorflow.python.keras.callbacks.History at 0x7f31dfa69b38>"
      ]
     },
     "execution_count": 33,
     "metadata": {
      "tags": []
     },
     "output_type": "execute_result"
    }
   ],
   "source": [
    "noise_remover.fit(X_train,X_train,epochs=8,validation_data=(X_test,X_test))"
   ]
  },
  {
   "cell_type": "code",
   "execution_count": 35,
   "metadata": {
    "id": "DODkXnRsuvOX"
   },
   "outputs": [],
   "source": [
    "ten_noisy_image = sample(X_test[:10],training=True)"
   ]
  },
  {
   "cell_type": "code",
   "execution_count": 36,
   "metadata": {
    "id": "uq1pZay_vIcQ"
   },
   "outputs": [],
   "source": [
    "denoise = noise_remover(ten_noisy_image)"
   ]
  },
  {
   "cell_type": "code",
   "execution_count": 39,
   "metadata": {
    "colab": {
     "base_uri": "https://localhost:8080/",
     "height": 847
    },
    "id": "E5rRmSUavgmj",
    "outputId": "0a61e279-3fce-4b0e-e3bd-c886bf6ad66a"
   },
   "outputs": [
    {
     "name": "stdout",
     "output_type": "stream",
     "text": [
      "Original Image\n"
     ]
    },
    {
     "data": {
      "image/png": "[encoded data removed]",
      "text/plain": [
       "<Figure size 432x288 with 1 Axes>"
      ]
     },
     "metadata": {
      "needs_background": "light",
      "tags": []
     },
     "output_type": "display_data"
    },
    {
     "name": "stdout",
     "output_type": "stream",
     "text": [
      "\n",
      "Noise Image\n"
     ]
    },
    {
     "data": {
      "image/png": "[encoded data removed]",
      "text/plain": [
       "<Figure size 432x288 with 1 Axes>"
      ]
     },
     "metadata": {
      "needs_background": "light",
      "tags": []
     },
     "output_type": "display_data"
    },
    {
     "name": "stdout",
     "output_type": "stream",
     "text": [
      "\n",
      "After Noise Removal\n"
     ]
    },
    {
     "data": {
      "image/png": "[encoded data removed]",
      "text/plain": [
       "<Figure size 432x288 with 1 Axes>"
      ]
     },
     "metadata": {
      "needs_background": "light",
      "tags": []
     },
     "output_type": "display_data"
    }
   ],
   "source": [
    "n=0\n",
    "\n",
    "print('Original Image')\n",
    "plt.imshow(X_test[n])\n",
    "plt.show()\n",
    "\n",
    "print('\\nNoise Image')\n",
    "plt.imshow(ten_noisy_image[n])\n",
    "plt.show()\n",
    "\n",
    "print('\\nAfter Noise Removal')\n",
    "plt.imshow(denoise[n])\n",
    "plt.show()"
   ]
  },
  {
   "cell_type": "code",
   "execution_count": null,
   "metadata": {
    "id": "DT5P3PG7wXEm"
   },
   "outputs": [],
   "source": []
  }
 ],
 "metadata": {
  "accelerator": "GPU",
  "colab": {
   "name": "AutoEncoder.ipynb",
   "provenance": []
  },
  "kernelspec": {
   "display_name": "Python 3",
   "language": "python",
   "name": "python3"
  },
  "language_info": {
   "codemirror_mode": {
    "name": "ipython",
    "version": 3
   },
   "file_extension": ".py",
   "mimetype": "text/x-python",
   "name": "python",
   "nbconvert_exporter": "python",
   "pygments_lexer": "ipython3",
   "version": "3.7.6"
  }
 },
 "nbformat": 4,
 "nbformat_minor": 1
}
